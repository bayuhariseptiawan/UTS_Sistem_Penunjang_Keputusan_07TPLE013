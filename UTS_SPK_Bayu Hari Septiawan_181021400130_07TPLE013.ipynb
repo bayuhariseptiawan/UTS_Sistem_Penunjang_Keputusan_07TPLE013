{
 "cells": [
  {
   "cell_type": "code",
   "execution_count": 6,
   "id": "afaa68dc-da64-44d3-9741-b4a431ecbdbe",
   "metadata": {},
   "outputs": [],
   "source": [
    "import pandas as pd"
   ]
  },
  {
   "cell_type": "code",
   "execution_count": 12,
   "id": "6030e239-72f0-43b9-9e3d-6bedccfaa5ed",
   "metadata": {},
   "outputs": [
    {
     "data": {
      "text/html": [
       "<div>\n",
       "<style scoped>\n",
       "    .dataframe tbody tr th:only-of-type {\n",
       "        vertical-align: middle;\n",
       "    }\n",
       "\n",
       "    .dataframe tbody tr th {\n",
       "        vertical-align: top;\n",
       "    }\n",
       "\n",
       "    .dataframe thead th {\n",
       "        text-align: right;\n",
       "    }\n",
       "</style>\n",
       "<table border=\"1\" class=\"dataframe\">\n",
       "  <thead>\n",
       "    <tr style=\"text-align: right;\">\n",
       "      <th></th>\n",
       "      <th>Nama</th>\n",
       "      <th>Usia</th>\n",
       "      <th>Nilai_Test</th>\n",
       "      <th>Gaji</th>\n",
       "      <th>Nilai_Wawancara</th>\n",
       "      <th>Pengalaman</th>\n",
       "    </tr>\n",
       "  </thead>\n",
       "  <tbody>\n",
       "    <tr>\n",
       "      <th>0</th>\n",
       "      <td>Rudi</td>\n",
       "      <td>20</td>\n",
       "      <td>75</td>\n",
       "      <td>4000</td>\n",
       "      <td>70</td>\n",
       "      <td>1</td>\n",
       "    </tr>\n",
       "    <tr>\n",
       "      <th>1</th>\n",
       "      <td>Farhan</td>\n",
       "      <td>24</td>\n",
       "      <td>80</td>\n",
       "      <td>5500</td>\n",
       "      <td>75</td>\n",
       "      <td>3</td>\n",
       "    </tr>\n",
       "    <tr>\n",
       "      <th>2</th>\n",
       "      <td>Lisa</td>\n",
       "      <td>23</td>\n",
       "      <td>80</td>\n",
       "      <td>4000</td>\n",
       "      <td>70</td>\n",
       "      <td>4</td>\n",
       "    </tr>\n",
       "    <tr>\n",
       "      <th>3</th>\n",
       "      <td>Rahman</td>\n",
       "      <td>30</td>\n",
       "      <td>85</td>\n",
       "      <td>6500</td>\n",
       "      <td>75</td>\n",
       "      <td>10</td>\n",
       "    </tr>\n",
       "    <tr>\n",
       "      <th>4</th>\n",
       "      <td>Iqbal</td>\n",
       "      <td>31</td>\n",
       "      <td>85</td>\n",
       "      <td>6000</td>\n",
       "      <td>80</td>\n",
       "      <td>9</td>\n",
       "    </tr>\n",
       "  </tbody>\n",
       "</table>\n",
       "</div>"
      ],
      "text/plain": [
       "     Nama  Usia  Nilai_Test  Gaji  Nilai_Wawancara  Pengalaman\n",
       "0    Rudi    20          75  4000               70           1\n",
       "1  Farhan    24          80  5500               75           3\n",
       "2    Lisa    23          80  4000               70           4\n",
       "3  Rahman    30          85  6500               75          10\n",
       "4   Iqbal    31          85  6000               80           9"
      ]
     },
     "execution_count": 12,
     "metadata": {},
     "output_type": "execute_result"
    }
   ],
   "source": [
    "dframe1 = pd.read_csv(\"uts/data1.csv\")\n",
    "dframe1.head()"
   ]
  },
  {
   "cell_type": "code",
   "execution_count": 13,
   "id": "c2615954-7791-4473-891f-4bf32ec5f3c8",
   "metadata": {},
   "outputs": [
    {
     "data": {
      "text/html": [
       "<div>\n",
       "<style scoped>\n",
       "    .dataframe tbody tr th:only-of-type {\n",
       "        vertical-align: middle;\n",
       "    }\n",
       "\n",
       "    .dataframe tbody tr th {\n",
       "        vertical-align: top;\n",
       "    }\n",
       "\n",
       "    .dataframe thead th {\n",
       "        text-align: right;\n",
       "    }\n",
       "</style>\n",
       "<table border=\"1\" class=\"dataframe\">\n",
       "  <thead>\n",
       "    <tr style=\"text-align: right;\">\n",
       "      <th></th>\n",
       "      <th>Unnamed: 0</th>\n",
       "      <th>Usia</th>\n",
       "      <th>Nilai Test</th>\n",
       "      <th>Gaji yang diminta (dalam ribuan)</th>\n",
       "      <th>nilai wawancara</th>\n",
       "      <th>Pengalaman (thn)</th>\n",
       "    </tr>\n",
       "  </thead>\n",
       "  <tbody>\n",
       "    <tr>\n",
       "      <th>0</th>\n",
       "      <td>Bobot</td>\n",
       "      <td>3</td>\n",
       "      <td>5</td>\n",
       "      <td>3</td>\n",
       "      <td>5</td>\n",
       "      <td>4</td>\n",
       "    </tr>\n",
       "    <tr>\n",
       "      <th>1</th>\n",
       "      <td>Jenis kriteria</td>\n",
       "      <td>cost</td>\n",
       "      <td>benefit</td>\n",
       "      <td>cost</td>\n",
       "      <td>benefit</td>\n",
       "      <td>benefit</td>\n",
       "    </tr>\n",
       "  </tbody>\n",
       "</table>\n",
       "</div>"
      ],
      "text/plain": [
       "       Unnamed: 0  Usia Nilai Test Gaji yang diminta (dalam ribuan)  \\\n",
       "0           Bobot     3          5                                3   \n",
       "1  Jenis kriteria  cost    benefit                             cost   \n",
       "\n",
       "  nilai wawancara Pengalaman (thn)  \n",
       "0               5                4  \n",
       "1         benefit          benefit  "
      ]
     },
     "execution_count": 13,
     "metadata": {},
     "output_type": "execute_result"
    }
   ],
   "source": [
    "dframe2 = pd.read_csv(\"uts/data2.csv\")\n",
    "dframe2.head()"
   ]
  },
  {
   "cell_type": "code",
   "execution_count": 14,
   "id": "59e30085-8436-46fd-93fc-1450b02d514e",
   "metadata": {},
   "outputs": [
    {
     "data": {
      "text/html": [
       "<div>\n",
       "<style scoped>\n",
       "    .dataframe tbody tr th:only-of-type {\n",
       "        vertical-align: middle;\n",
       "    }\n",
       "\n",
       "    .dataframe tbody tr th {\n",
       "        vertical-align: top;\n",
       "    }\n",
       "\n",
       "    .dataframe thead th {\n",
       "        text-align: right;\n",
       "    }\n",
       "</style>\n",
       "<table border=\"1\" class=\"dataframe\">\n",
       "  <thead>\n",
       "    <tr style=\"text-align: right;\">\n",
       "      <th></th>\n",
       "      <th>Bobot</th>\n",
       "      <th>Keterangan</th>\n",
       "    </tr>\n",
       "  </thead>\n",
       "  <tbody>\n",
       "    <tr>\n",
       "      <th>0</th>\n",
       "      <td>1</td>\n",
       "      <td>Sangat tidak penting</td>\n",
       "    </tr>\n",
       "    <tr>\n",
       "      <th>1</th>\n",
       "      <td>2</td>\n",
       "      <td>Tidak penting</td>\n",
       "    </tr>\n",
       "    <tr>\n",
       "      <th>2</th>\n",
       "      <td>3</td>\n",
       "      <td>Cukup penting</td>\n",
       "    </tr>\n",
       "    <tr>\n",
       "      <th>3</th>\n",
       "      <td>4</td>\n",
       "      <td>Penting</td>\n",
       "    </tr>\n",
       "    <tr>\n",
       "      <th>4</th>\n",
       "      <td>5</td>\n",
       "      <td>Sangat Penting</td>\n",
       "    </tr>\n",
       "  </tbody>\n",
       "</table>\n",
       "</div>"
      ],
      "text/plain": [
       "   Bobot            Keterangan\n",
       "0      1  Sangat tidak penting\n",
       "1      2         Tidak penting\n",
       "2      3         Cukup penting\n",
       "3      4               Penting\n",
       "4      5        Sangat Penting"
      ]
     },
     "execution_count": 14,
     "metadata": {},
     "output_type": "execute_result"
    }
   ],
   "source": [
    "dframe3 = pd.read_csv(\"uts/data3.csv\")\n",
    "dframe3.head()"
   ]
  },
  {
   "cell_type": "code",
   "execution_count": null,
   "id": "d48dd990-e453-49a6-9ee3-0ce12e09c45d",
   "metadata": {},
   "outputs": [],
   "source": []
  }
 ],
 "metadata": {
  "kernelspec": {
   "display_name": "Python 3",
   "language": "python",
   "name": "python3"
  },
  "language_info": {
   "codemirror_mode": {
    "name": "ipython",
    "version": 3
   },
   "file_extension": ".py",
   "mimetype": "text/x-python",
   "name": "python",
   "nbconvert_exporter": "python",
   "pygments_lexer": "ipython3",
   "version": "3.8.8"
  }
 },
 "nbformat": 4,
 "nbformat_minor": 5
}
